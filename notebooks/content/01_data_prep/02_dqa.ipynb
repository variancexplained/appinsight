{
 "cells": [
  {
   "cell_type": "code",
   "execution_count": 1,
   "metadata": {
    "tags": [
     "remove-cell"
    ]
   },
   "outputs": [],
   "source": [
    "import os\n",
    "if 'jbook' in os.getcwd():\n",
    "    os.chdir(os.path.abspath(os.path.join(\"../..\")))\n",
    "import warnings\n",
    "warnings.filterwarnings(\"ignore\", category=FutureWarning)"
   ]
  },
  {
   "cell_type": "code",
   "execution_count": 2,
   "metadata": {
    "tags": [
     "remove-cell"
    ]
   },
   "outputs": [],
   "source": [
    "# from importlib import reload  # Not needed in Python 2\n",
    "# import logging\n",
    "# reload(logging)\n",
    "# logging.basicConfig(format='%(asctime)s %(levelname)s:%(message)s', level=logging.DEBUG, datefmt='%I:%M:%S')"
   ]
  },
  {
   "cell_type": "markdown",
   "metadata": {},
   "source": [
    "# Data Quality Assessment\n",
    "The second stage of data processing is the Data Quality Assessment. This stage ensures that our dataset is ready for subsequent analysis and modeling tasks. By identifying and rectifying data quality issues early, we can avoid potential pitfalls that might compromise the integrity and accuracy of our results.\n",
    "\n",
    "## Data Quality Checks\n",
    "In this stage, we employ a series of tasks designed to identify and address any noise or irregularities within the dataset. Each task focuses on a specific aspect of data quality, ranging from detecting duplicate entries to identifying profanity, special patterns, and other potential sources of bias or distortion.\n",
    "1. **Duplicate Rows**: We identify and remove duplicate entries to ensure that each observation is unique, preventing skewed analyses and inflated metrics.\n",
    "2. **Null Values**: We detect and handle missing data appropriately, which could involve imputation, deletion, or flagging incomplete records for further investigation.\n",
    "3. **Outliers**: Check for outliers in numeric columns using the non-parametric Interquartile Range (IQR) method.\n",
    "4. **Non-English Text**: We check for and address non-English text in reviews and app names, as they may not be relevant to our analysis or could require special handling.\n",
    "5. **Emojis**: Emojis can carry significant meaning in certain contexts but might also introduce noise. We identify and decide on their treatment—whether to retain, remove, or translate them into textual representations.\n",
    "6. **Excessive Special Characters**: Special characters can disrupt text analysis and need to be managed, either by cleaning or encoding them appropriately.\n",
    "7. **Invalid Dates**: We verify that date values fall within expected ranges and formats, correcting or flagging anomalies for further review.\n",
    "8. **Invalid Ratings**: Ratings that fall outside the expected scale (e.g., 1 to 5) are identified and corrected or flagged.\n",
    "9. **Profanity**: We detect and handle profane content to ensure that our dataset adheres to appropriate usage standards, especially if it's intended for public or sensitive applications.\n",
    "10. **Special Patterns**: We identify and manage special patterns such as URLs, phone numbers, and emails. These patterns could be indicative of spam or need to be anonymized to protect privacy.\n",
    "\n",
    "By conducting these data quality checks, we ensure that our dataset is clean, reliable, and ready for detailed analysis. This foundational step sets the stage for accurate insights and robust conclusions in the subsequent phases of our data processing pipeline."
   ]
  },
  {
   "cell_type": "code",
   "execution_count": 3,
   "metadata": {},
   "outputs": [],
   "source": [
    "\n",
    "from appinsight.data_prep.dqa import DataQualityAssessment, DQAConfig"
   ]
  },
  {
   "cell_type": "markdown",
   "metadata": {},
   "source": [
    "We've encapsulated the data quality assessment process in a `DataQualityAssessment` class. Configured with source and target files, this class conducts the 10 data quality checks, marking the observations that require attention."
   ]
  },
  {
   "cell_type": "code",
   "execution_count": 4,
   "metadata": {},
   "outputs": [
    {
     "name": "stdout",
     "output_type": "stream",
     "text": [
      "Dask dashboard available at: http://127.0.0.1:8787/status\n",
      "Dask dashboard available at: http://127.0.0.1:37127/status\n",
      "\n",
      "\n",
      "# ============================================================================ #\n",
      "#                        DataQualityAssessment Pipeline                        #\n",
      "# ============================================================================ #\n",
      "\n",
      "Task ReadTask completed successfully. Runtime: 01 Minutes 00.951281 Seconds\n",
      "Task DetectDuplicateRowTask completed successfully. Runtime: 02 Minutes 19.425275 Seconds\n",
      "Task DetectDuplicateRowTask completed successfully. Runtime: 00 Minutes 12.360499 Seconds\n",
      "Task DetectNullValuesTask completed successfully. Runtime: 00 Minutes 07.966793 Seconds\n",
      "Task DetectOutliersTask completed successfully. Runtime: 00 Minutes 01.807617 Seconds\n",
      "Task DetectOutliersTask completed successfully. Runtime: 00 Minutes 12.052286 Seconds\n"
     ]
    },
    {
     "name": "stderr",
     "output_type": "stream",
     "text": [
      "Exception occurred in DetectNonEnglishTask.execute_task called with <appinsight.data_prep.dqa.DetectNonEnglishTask object at 0x7f3e14243af0>, data=                  id      app_id                        app_name category_id  \\\n",
      "8082666   1119912682   302584613                   Amazon Kindle        6018   \n",
      "12470837   599135993   377951542           Crackle - Movies & TV        6016   \n",
      "8259344    817378711   379693831    Audible: Audio Entertainment        6018   \n",
      "15167672  1140598740   454638411                       Messenger        6005   \n",
      "17233515  5104781144   912561374    Marco Polo - Video Messenger        6005   \n",
      "...              ...         ...                             ...         ...   \n",
      "12569055  7129296333  1075603018                      Funimation        6016   \n",
      "12708744  8063238669  1492683521  TuckerMoji - Tucker Budzyn Dog        6016   \n",
      "20043110  4677288812   316800034                         Workday        6000   \n",
      "16939968  8030630370  1269081011      Zoe: Lesbian Dating & Chat        6005   \n",
      "21984044   829561864   532457588           Tip Calculator % Gold        6023   \n",
      "\n",
      "                   category                author  rating  \\\n",
      "8082666                Book  d2358b883165f67f1c7a       5   \n",
      "12470837      Entertainment  9894e5c595f721134031       4   \n",
      "8259344                Book  17d3294e9ba52b6e991e       1   \n",
      "15167672  Social Networking  5a2fdce30b0f0e36878f       1   \n",
      "17233515  Social Networking  4edc9a386d1204b7160a       5   \n",
      "...                     ...                   ...     ...   \n",
      "12569055      Entertainment  2dbc07d1ff7e577bd22b       1   \n",
      "12708744      Entertainment  45b8b3869bb1746588b6       5   \n",
      "20043110           Business  7f665e7ca98c9fe7c375       2   \n",
      "16939968  Social Networking  80cb15a40cdb48e8b5d6       5   \n",
      "21984044       Food & Drink  9cc9cc38571ed8e3dedf       5   \n",
      "\n",
      "                                                    content  vote_sum  \\\n",
      "8082666   I read using the kindle app several times a da...         0   \n",
      "12470837                                              Cesar         0   \n",
      "8259344   No way to see other books or browse titles.  I...         0   \n",
      "15167672  I have a messenger app already. Its my text me...         0   \n",
      "17233515  I love getting little video messages!  Gives m...         0   \n",
      "...                                                     ...       ...   \n",
      "12569055  Banner ad for the subscription options clearly...         0   \n",
      "12708744  Its awesome. Its a great way to express tucker...         0   \n",
      "20043110                              Difficult to navigate         0   \n",
      "16939968              Seems fun can’t wait to have some Fun         0   \n",
      "21984044                         Easy to use, very helpful.         0   \n",
      "\n",
      "          vote_count                date  dqa_is_duplicate  \\\n",
      "8082666            0 2014-12-27 08:24:00             False   \n",
      "12470837           0 2012-06-10 01:47:10             False   \n",
      "8259344            0 2013-06-08 15:52:00             False   \n",
      "15167672           0 2015-02-02 19:01:33             False   \n",
      "17233515           0 2019-11-08 14:09:21             False   \n",
      "...              ...                 ...               ...   \n",
      "12569055           0 2021-03-21 22:11:23             False   \n",
      "12708744           0 2021-11-26 00:07:09             False   \n",
      "20043110           0 2019-08-26 13:11:00             False   \n",
      "16939968           0 2021-11-16 16:50:57             False   \n",
      "21984044           0 2013-07-01 14:38:39             False   \n",
      "\n",
      "          dqa_is_duplicate_review_id  dqa_has_null_values  \\\n",
      "8082666                        False                False   \n",
      "12470837                       False                False   \n",
      "8259344                        False                False   \n",
      "15167672                       False                False   \n",
      "17233515                       False                False   \n",
      "...                              ...                  ...   \n",
      "12569055                       False                False   \n",
      "12708744                       False                False   \n",
      "20043110                       False                False   \n",
      "16939968                       False                False   \n",
      "21984044                       False                False   \n",
      "\n",
      "          dqa_vote_sum_outlier  dqa_vote_count_outlier  \n",
      "8082666                  False                   False  \n",
      "12470837                 False                   False  \n",
      "8259344                  False                   False  \n",
      "15167672                 False                   False  \n",
      "17233515                 False                   False  \n",
      "...                        ...                     ...  \n",
      "12569055                 False                   False  \n",
      "12708744                 False                   False  \n",
      "20043110                 False                   False  \n",
      "16939968                 False                   False  \n",
      "21984044                 False                   False  \n",
      "\n",
      "[22166591 rows x 16 columns]\n",
      "'DetectNonEnglishTask' object has no attribute '_new_column'\n",
      "Traceback (most recent call last):\n",
      "  File \"/home/john/miniconda3/envs/appinsight/lib/python3.10/shelve.py\", line 111, in __getitem__\n",
      "    value = self.cache[key]\n",
      "KeyError: 'detectnonenglishtask'\n",
      "\n",
      "During handling of the above exception, another exception occurred:\n",
      "\n",
      "Traceback (most recent call last):\n",
      "  File \"/home/john/projects/appinsight/appinsight/data_prep/dqa.py\", line 258, in execute\n",
      "    result = self._get_cache(key=self._cache_key)\n",
      "  File \"/home/john/projects/appinsight/appinsight/data_prep/dqa.py\", line 282, in _get_cache\n",
      "    return cache[key]\n",
      "  File \"/home/john/miniconda3/envs/appinsight/lib/python3.10/shelve.py\", line 113, in __getitem__\n",
      "    f = BytesIO(self.dict[key.encode(self.keyencoding)])\n",
      "  File \"/home/john/miniconda3/envs/appinsight/lib/python3.10/dbm/dumb.py\", line 147, in __getitem__\n",
      "    pos, siz = self._index[key]     # may raise KeyError\n",
      "KeyError: b'detectnonenglishtask'\n",
      "\n",
      "During handling of the above exception, another exception occurred:\n",
      "\n",
      "Traceback (most recent call last):\n",
      "  File \"/home/john/projects/appinsight/appinsight/infrastructure/logging.py\", line 33, in wrapper\n",
      "    return func(*args, **kwargs)\n",
      "  File \"/home/john/projects/appinsight/appinsight/data_prep/dqa.py\", line 421, in execute_task\n",
      "    new_column_name = f\"{self._text_column}_{self._new_column}\"\n",
      "AttributeError: 'DetectNonEnglishTask' object has no attribute '_new_column'. Did you mean: '_text_column'?\n",
      "Error executing function 'DetectNonEnglishTask.execute_task': 'DetectNonEnglishTask' object has no attribute '_new_column'\n"
     ]
    },
    {
     "ename": "AttributeError",
     "evalue": "'DetectNonEnglishTask' object has no attribute '_new_column'",
     "output_type": "error",
     "traceback": [
      "\u001b[0;31m---------------------------------------------------------------------------\u001b[0m",
      "\u001b[0;31mKeyError\u001b[0m                                  Traceback (most recent call last)",
      "File \u001b[0;32m~/miniconda3/envs/appinsight/lib/python3.10/shelve.py:111\u001b[0m, in \u001b[0;36mShelf.__getitem__\u001b[0;34m(self, key)\u001b[0m\n\u001b[1;32m    110\u001b[0m \u001b[38;5;28;01mtry\u001b[39;00m:\n\u001b[0;32m--> 111\u001b[0m     value \u001b[38;5;241m=\u001b[39m \u001b[38;5;28;43mself\u001b[39;49m\u001b[38;5;241;43m.\u001b[39;49m\u001b[43mcache\u001b[49m\u001b[43m[\u001b[49m\u001b[43mkey\u001b[49m\u001b[43m]\u001b[49m\n\u001b[1;32m    112\u001b[0m \u001b[38;5;28;01mexcept\u001b[39;00m \u001b[38;5;167;01mKeyError\u001b[39;00m:\n",
      "\u001b[0;31mKeyError\u001b[0m: 'detectnonenglishtask'",
      "\nDuring handling of the above exception, another exception occurred:\n",
      "\u001b[0;31mKeyError\u001b[0m                                  Traceback (most recent call last)",
      "File \u001b[0;32m~/projects/appinsight/appinsight/data_prep/dqa.py:258\u001b[0m, in \u001b[0;36mDataQualityAssessmentTask.execute\u001b[0;34m(self, data)\u001b[0m\n\u001b[1;32m    257\u001b[0m \u001b[38;5;28;01mtry\u001b[39;00m:\n\u001b[0;32m--> 258\u001b[0m     result \u001b[38;5;241m=\u001b[39m \u001b[38;5;28;43mself\u001b[39;49m\u001b[38;5;241;43m.\u001b[39;49m\u001b[43m_get_cache\u001b[49m\u001b[43m(\u001b[49m\u001b[43mkey\u001b[49m\u001b[38;5;241;43m=\u001b[39;49m\u001b[38;5;28;43mself\u001b[39;49m\u001b[38;5;241;43m.\u001b[39;49m\u001b[43m_cache_key\u001b[49m\u001b[43m)\u001b[49m\n\u001b[1;32m    259\u001b[0m     data \u001b[38;5;241m=\u001b[39m pd\u001b[38;5;241m.\u001b[39mconcat([data, result\u001b[38;5;241m.\u001b[39mrename(\u001b[38;5;28mself\u001b[39m\u001b[38;5;241m.\u001b[39mnew_column_name)], axis\u001b[38;5;241m=\u001b[39m\u001b[38;5;241m1\u001b[39m)\n",
      "File \u001b[0;32m~/projects/appinsight/appinsight/data_prep/dqa.py:282\u001b[0m, in \u001b[0;36mDataQualityAssessmentTask._get_cache\u001b[0;34m(self, key)\u001b[0m\n\u001b[1;32m    281\u001b[0m \u001b[38;5;28;01mwith\u001b[39;00m shelve\u001b[38;5;241m.\u001b[39mopen(\u001b[38;5;28mself\u001b[39m\u001b[38;5;241m.\u001b[39m_cache_filepath) \u001b[38;5;28;01mas\u001b[39;00m cache:\n\u001b[0;32m--> 282\u001b[0m     \u001b[38;5;28;01mreturn\u001b[39;00m \u001b[43mcache\u001b[49m\u001b[43m[\u001b[49m\u001b[43mkey\u001b[49m\u001b[43m]\u001b[49m\n",
      "File \u001b[0;32m~/miniconda3/envs/appinsight/lib/python3.10/shelve.py:113\u001b[0m, in \u001b[0;36mShelf.__getitem__\u001b[0;34m(self, key)\u001b[0m\n\u001b[1;32m    112\u001b[0m \u001b[38;5;28;01mexcept\u001b[39;00m \u001b[38;5;167;01mKeyError\u001b[39;00m:\n\u001b[0;32m--> 113\u001b[0m     f \u001b[38;5;241m=\u001b[39m BytesIO(\u001b[38;5;28;43mself\u001b[39;49m\u001b[38;5;241;43m.\u001b[39;49m\u001b[43mdict\u001b[49m\u001b[43m[\u001b[49m\u001b[43mkey\u001b[49m\u001b[38;5;241;43m.\u001b[39;49m\u001b[43mencode\u001b[49m\u001b[43m(\u001b[49m\u001b[38;5;28;43mself\u001b[39;49m\u001b[38;5;241;43m.\u001b[39;49m\u001b[43mkeyencoding\u001b[49m\u001b[43m)\u001b[49m\u001b[43m]\u001b[49m)\n\u001b[1;32m    114\u001b[0m     value \u001b[38;5;241m=\u001b[39m Unpickler(f)\u001b[38;5;241m.\u001b[39mload()\n",
      "File \u001b[0;32m~/miniconda3/envs/appinsight/lib/python3.10/dbm/dumb.py:147\u001b[0m, in \u001b[0;36m_Database.__getitem__\u001b[0;34m(self, key)\u001b[0m\n\u001b[1;32m    146\u001b[0m \u001b[38;5;28mself\u001b[39m\u001b[38;5;241m.\u001b[39m_verify_open()\n\u001b[0;32m--> 147\u001b[0m pos, siz \u001b[38;5;241m=\u001b[39m \u001b[38;5;28;43mself\u001b[39;49m\u001b[38;5;241;43m.\u001b[39;49m\u001b[43m_index\u001b[49m\u001b[43m[\u001b[49m\u001b[43mkey\u001b[49m\u001b[43m]\u001b[49m     \u001b[38;5;66;03m# may raise KeyError\u001b[39;00m\n\u001b[1;32m    148\u001b[0m \u001b[38;5;28;01mwith\u001b[39;00m _io\u001b[38;5;241m.\u001b[39mopen(\u001b[38;5;28mself\u001b[39m\u001b[38;5;241m.\u001b[39m_datfile, \u001b[38;5;124m'\u001b[39m\u001b[38;5;124mrb\u001b[39m\u001b[38;5;124m'\u001b[39m) \u001b[38;5;28;01mas\u001b[39;00m f:\n",
      "\u001b[0;31mKeyError\u001b[0m: b'detectnonenglishtask'",
      "\nDuring handling of the above exception, another exception occurred:\n",
      "\u001b[0;31mAttributeError\u001b[0m                            Traceback (most recent call last)",
      "Cell \u001b[0;32mIn[4], line 4\u001b[0m\n\u001b[1;32m      2\u001b[0m warnings\u001b[38;5;241m.\u001b[39mfilterwarnings(\u001b[38;5;124m\"\u001b[39m\u001b[38;5;124mignore\u001b[39m\u001b[38;5;124m\"\u001b[39m, category\u001b[38;5;241m=\u001b[39m\u001b[38;5;167;01mFutureWarning\u001b[39;00m)\n\u001b[1;32m      3\u001b[0m dqa \u001b[38;5;241m=\u001b[39m DataQualityAssessment(config\u001b[38;5;241m=\u001b[39mconfig)\n\u001b[0;32m----> 4\u001b[0m data \u001b[38;5;241m=\u001b[39m \u001b[43mdqa\u001b[49m\u001b[38;5;241;43m.\u001b[39;49m\u001b[43mexecute\u001b[49m\u001b[43m(\u001b[49m\u001b[43m)\u001b[49m\n",
      "File \u001b[0;32m~/projects/appinsight/appinsight/data_prep/base.py:94\u001b[0m, in \u001b[0;36mPreprocessor.execute\u001b[0;34m(self)\u001b[0m\n\u001b[1;32m     92\u001b[0m     pipeline \u001b[38;5;241m=\u001b[39m \u001b[38;5;28mself\u001b[39m\u001b[38;5;241m.\u001b[39mcreate_pipeline()\n\u001b[1;32m     93\u001b[0m     \u001b[38;5;28mself\u001b[39m\u001b[38;5;241m.\u001b[39mlogger\u001b[38;5;241m.\u001b[39mdebug(\u001b[38;5;124m\"\u001b[39m\u001b[38;5;124mPipeline created.\u001b[39m\u001b[38;5;124m\"\u001b[39m)\n\u001b[0;32m---> 94\u001b[0m     \u001b[38;5;28mself\u001b[39m\u001b[38;5;241m.\u001b[39m_data \u001b[38;5;241m=\u001b[39m \u001b[43mpipeline\u001b[49m\u001b[38;5;241;43m.\u001b[39;49m\u001b[43mexecute\u001b[49m\u001b[43m(\u001b[49m\u001b[43m)\u001b[49m\n\u001b[1;32m     95\u001b[0m \u001b[38;5;28;01mreturn\u001b[39;00m \u001b[38;5;28mself\u001b[39m\u001b[38;5;241m.\u001b[39m_data\n",
      "File \u001b[0;32m~/projects/appinsight/appinsight/workflow/pipeline.py:82\u001b[0m, in \u001b[0;36mPipeline.execute\u001b[0;34m(self)\u001b[0m\n\u001b[1;32m     78\u001b[0m data \u001b[38;5;241m=\u001b[39m \u001b[38;5;28;01mNone\u001b[39;00m\n\u001b[1;32m     80\u001b[0m \u001b[38;5;28;01mfor\u001b[39;00m task \u001b[38;5;129;01min\u001b[39;00m \u001b[38;5;28mself\u001b[39m\u001b[38;5;241m.\u001b[39m_tasks:\n\u001b[0;32m---> 82\u001b[0m     data \u001b[38;5;241m=\u001b[39m \u001b[43mtask\u001b[49m\u001b[38;5;241;43m.\u001b[39;49m\u001b[43mexecute\u001b[49m\u001b[43m(\u001b[49m\u001b[43mdata\u001b[49m\u001b[43m)\u001b[49m\n\u001b[1;32m     83\u001b[0m     \u001b[38;5;28mself\u001b[39m\u001b[38;5;241m.\u001b[39m_data \u001b[38;5;241m=\u001b[39m data \u001b[38;5;28;01mif\u001b[39;00m data \u001b[38;5;129;01mis\u001b[39;00m \u001b[38;5;129;01mnot\u001b[39;00m \u001b[38;5;28;01mNone\u001b[39;00m \u001b[38;5;28;01melse\u001b[39;00m \u001b[38;5;28mself\u001b[39m\u001b[38;5;241m.\u001b[39m_data\n\u001b[1;32m     85\u001b[0m     \u001b[38;5;28mself\u001b[39m\u001b[38;5;241m.\u001b[39m_tasks_completed\u001b[38;5;241m.\u001b[39mappend(task)\n",
      "File \u001b[0;32m~/projects/appinsight/appinsight/data_prep/dqa.py:263\u001b[0m, in \u001b[0;36mDataQualityAssessmentTask.execute\u001b[0;34m(self, data)\u001b[0m\n\u001b[1;32m    261\u001b[0m \u001b[38;5;66;03m# Otherwise, obtain result by executing the task, then save result to cache.\u001b[39;00m\n\u001b[1;32m    262\u001b[0m \u001b[38;5;28;01mexcept\u001b[39;00m \u001b[38;5;167;01mKeyError\u001b[39;00m:\n\u001b[0;32m--> 263\u001b[0m     data \u001b[38;5;241m=\u001b[39m \u001b[38;5;28;43mself\u001b[39;49m\u001b[38;5;241;43m.\u001b[39;49m\u001b[43mexecute_task\u001b[49m\u001b[43m(\u001b[49m\u001b[43mdata\u001b[49m\u001b[38;5;241;43m=\u001b[39;49m\u001b[43mdata\u001b[49m\u001b[43m)\u001b[49m\n\u001b[1;32m    264\u001b[0m     \u001b[38;5;28mself\u001b[39m\u001b[38;5;241m.\u001b[39m_cache(key\u001b[38;5;241m=\u001b[39m\u001b[38;5;28mself\u001b[39m\u001b[38;5;241m.\u001b[39m_cache_key, value\u001b[38;5;241m=\u001b[39mdata[\u001b[38;5;28mself\u001b[39m\u001b[38;5;241m.\u001b[39mnew_column_name])\n\u001b[1;32m    266\u001b[0m \u001b[38;5;28;01mexcept\u001b[39;00m \u001b[38;5;167;01mException\u001b[39;00m \u001b[38;5;28;01mas\u001b[39;00m e:\n",
      "File \u001b[0;32m~/projects/appinsight/appinsight/infrastructure/profiling/decorator.py:52\u001b[0m, in \u001b[0;36mtask_profiler.<locals>.decorator.<locals>.wrapper\u001b[0;34m(*args, **kwargs)\u001b[0m\n\u001b[1;32m     50\u001b[0m \u001b[38;5;66;03m# Execute the function and capture the result\u001b[39;00m\n\u001b[1;32m     51\u001b[0m \u001b[38;5;28;01mtry\u001b[39;00m:\n\u001b[0;32m---> 52\u001b[0m     result \u001b[38;5;241m=\u001b[39m \u001b[43mfunc\u001b[49m\u001b[43m(\u001b[49m\u001b[38;5;241;43m*\u001b[39;49m\u001b[43margs\u001b[49m\u001b[43m,\u001b[49m\u001b[43m \u001b[49m\u001b[38;5;241;43m*\u001b[39;49m\u001b[38;5;241;43m*\u001b[39;49m\u001b[43mkwargs\u001b[49m\u001b[43m)\u001b[49m\n\u001b[1;32m     53\u001b[0m \u001b[38;5;28;01mexcept\u001b[39;00m \u001b[38;5;167;01mException\u001b[39;00m \u001b[38;5;28;01mas\u001b[39;00m e:\n\u001b[1;32m     54\u001b[0m     logger\u001b[38;5;241m.\u001b[39merror(\u001b[38;5;124mf\u001b[39m\u001b[38;5;124m\"\u001b[39m\u001b[38;5;124mError executing function \u001b[39m\u001b[38;5;124m'\u001b[39m\u001b[38;5;132;01m{\u001b[39;00mfunc\u001b[38;5;241m.\u001b[39m\u001b[38;5;18m__qualname__\u001b[39m\u001b[38;5;132;01m}\u001b[39;00m\u001b[38;5;124m'\u001b[39m\u001b[38;5;124m: \u001b[39m\u001b[38;5;132;01m{\u001b[39;00me\u001b[38;5;132;01m}\u001b[39;00m\u001b[38;5;124m\"\u001b[39m)\n",
      "File \u001b[0;32m~/projects/appinsight/appinsight/infrastructure/logging.py:33\u001b[0m, in \u001b[0;36mlog_exceptions.<locals>.decorator.<locals>.wrapper\u001b[0;34m(*args, **kwargs)\u001b[0m\n\u001b[1;32m     30\u001b[0m \u001b[38;5;129m@functools\u001b[39m\u001b[38;5;241m.\u001b[39mwraps(func)\n\u001b[1;32m     31\u001b[0m \u001b[38;5;28;01mdef\u001b[39;00m \u001b[38;5;21mwrapper\u001b[39m(\u001b[38;5;241m*\u001b[39margs, \u001b[38;5;241m*\u001b[39m\u001b[38;5;241m*\u001b[39mkwargs):\n\u001b[1;32m     32\u001b[0m     \u001b[38;5;28;01mtry\u001b[39;00m:\n\u001b[0;32m---> 33\u001b[0m         \u001b[38;5;28;01mreturn\u001b[39;00m \u001b[43mfunc\u001b[49m\u001b[43m(\u001b[49m\u001b[38;5;241;43m*\u001b[39;49m\u001b[43margs\u001b[49m\u001b[43m,\u001b[49m\u001b[43m \u001b[49m\u001b[38;5;241;43m*\u001b[39;49m\u001b[38;5;241;43m*\u001b[39;49m\u001b[43mkwargs\u001b[49m\u001b[43m)\u001b[49m\n\u001b[1;32m     34\u001b[0m     \u001b[38;5;28;01mexcept\u001b[39;00m \u001b[38;5;167;01mException\u001b[39;00m \u001b[38;5;28;01mas\u001b[39;00m e:\n\u001b[1;32m     35\u001b[0m         args_repr \u001b[38;5;241m=\u001b[39m [\u001b[38;5;28mrepr\u001b[39m(a) \u001b[38;5;28;01mfor\u001b[39;00m a \u001b[38;5;129;01min\u001b[39;00m args]\n",
      "File \u001b[0;32m~/projects/appinsight/appinsight/data_prep/dqa.py:421\u001b[0m, in \u001b[0;36mDetectNonEnglishTask.execute_task\u001b[0;34m(self, data)\u001b[0m\n\u001b[1;32m    418\u001b[0m \u001b[38;5;28mself\u001b[39m\u001b[38;5;241m.\u001b[39m_logger\u001b[38;5;241m.\u001b[39mdebug(\u001b[38;5;124mf\u001b[39m\u001b[38;5;124m\"\u001b[39m\u001b[38;5;124mData split into \u001b[39m\u001b[38;5;132;01m{\u001b[39;00m\u001b[38;5;28mlen\u001b[39m(chunks)\u001b[38;5;132;01m}\u001b[39;00m\u001b[38;5;124m chunks\u001b[39m\u001b[38;5;124m\"\u001b[39m)\n\u001b[1;32m    420\u001b[0m \u001b[38;5;66;03m# Define new column name\u001b[39;00m\n\u001b[0;32m--> 421\u001b[0m new_column_name \u001b[38;5;241m=\u001b[39m \u001b[38;5;124mf\u001b[39m\u001b[38;5;124m\"\u001b[39m\u001b[38;5;132;01m{\u001b[39;00m\u001b[38;5;28mself\u001b[39m\u001b[38;5;241m.\u001b[39m_text_column\u001b[38;5;132;01m}\u001b[39;00m\u001b[38;5;124m_\u001b[39m\u001b[38;5;132;01m{\u001b[39;00m\u001b[38;5;28mself\u001b[39m\u001b[38;5;241m.\u001b[39m_new_column\u001b[38;5;132;01m}\u001b[39;00m\u001b[38;5;124m\"\u001b[39m\n\u001b[1;32m    423\u001b[0m \u001b[38;5;66;03m# Process chunks in parallel using joblib\u001b[39;00m\n\u001b[1;32m    424\u001b[0m results \u001b[38;5;241m=\u001b[39m Parallel(n_jobs\u001b[38;5;241m=\u001b[39m\u001b[38;5;28mself\u001b[39m\u001b[38;5;241m.\u001b[39m_n_jobs)(\n\u001b[1;32m    425\u001b[0m     delayed(process_chunk)(\n\u001b[1;32m    426\u001b[0m         chunk, \u001b[38;5;28mself\u001b[39m\u001b[38;5;241m.\u001b[39m_text_column, new_column_name, \u001b[38;5;28mself\u001b[39m\u001b[38;5;241m.\u001b[39m_model_filepath\n\u001b[1;32m    427\u001b[0m     )\n\u001b[1;32m    428\u001b[0m     \u001b[38;5;28;01mfor\u001b[39;00m chunk \u001b[38;5;129;01min\u001b[39;00m tqdm(chunks)\n\u001b[1;32m    429\u001b[0m )\n",
      "\u001b[0;31mAttributeError\u001b[0m: 'DetectNonEnglishTask' object has no attribute '_new_column'"
     ]
    }
   ],
   "source": [
    "config = DQAConfig(force=True)\n",
    "warnings.filterwarnings(\"ignore\", category=FutureWarning)\n",
    "dqa = DataQualityAssessment(config=config)\n",
    "data = dqa.execute()"
   ]
  },
  {
   "cell_type": "markdown",
   "metadata": {},
   "source": [
    "Let's get a summary of the data quality issues by type."
   ]
  },
  {
   "cell_type": "code",
   "execution_count": null,
   "metadata": {},
   "outputs": [],
   "source": [
    "dqa.overview()"
   ]
  },
  {
   "cell_type": "markdown",
   "metadata": {},
   "source": [
    "## Data Quality Impressions\n",
    "\n",
    "The data quality assessment (DQA) conducted on the AppVoC dataset revealed several key issues that need to be addressed to ensure the integrity and reliability of the analysis. These issues include:\n",
    "\n",
    "- **Duplicates**: A small percentage (<1%) have duplicate review ids.\n",
    "- **Null Values**: Fortunately, there were no null values detected in the dataset.\n",
    "- **Invalid Entries**: There were no invalid dates or invalid ratings found.\n",
    "- **Outliers**: Outliers were identified in vote sums, and vote counts which *could* potentially distort analysis results.\n",
    "- **Non-English**: A notable proportion of the app names (15%) and review content (4.2%) was flagged for being non-English.\n",
    "- **Special Characters**: A small percentage of reviews were noted for the presence of special characters in excessive proportions.\n",
    "- **Profanity & Sensitive Information**: Instances of profanity and the presence of email addresses, URLs, or phone numbers were minimal.\n",
    "\n",
    "Given these findings, the next step is to identify and treat the data quality issues with the greatest potential negative impact on dataset integrity and downstream analyses. This may involve, without limitation:\n",
    "\n",
    "- **Removing Duplicates**: Eliminating observations with duplicate review IDs.\n",
    "- **Handling Outliers**: Identifying and appropriately managing outliers in vote sums, and vote counts.\n",
    "- **Addressing Non-English Text**: Filtering or translating non-English reviews. \n",
    "- **filtering Noise**: Filtering or removing excessive special characters from reviews.\n",
    "- **Ensuring Clean Content**: Censor or remove reviews containing profanity, and personal identifying information such as phone numbers, URLs, and email addresses.\n",
    "\n",
    "Cue the action!"
   ]
  }
 ],
 "metadata": {
  "kernelspec": {
   "display_name": "appinsight",
   "language": "python",
   "name": "python3"
  },
  "language_info": {
   "codemirror_mode": {
    "name": "ipython",
    "version": 3
   },
   "file_extension": ".py",
   "mimetype": "text/x-python",
   "name": "python",
   "nbconvert_exporter": "python",
   "pygments_lexer": "ipython3",
   "version": "3.10.14"
  }
 },
 "nbformat": 4,
 "nbformat_minor": 2
}
