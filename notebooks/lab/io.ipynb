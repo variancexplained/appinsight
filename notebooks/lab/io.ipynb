{
 "cells": [
  {
   "cell_type": "markdown",
   "metadata": {},
   "source": [
    "# IO Lab"
   ]
  },
  {
   "cell_type": "code",
   "execution_count": 8,
   "metadata": {},
   "outputs": [],
   "source": [
    "import pyarrow.parquet as pq\n",
    "import pyarrow as pa\n",
    "from appinsight.utils.convert import ToSpark\n",
    "from appinsight.infrastructure.spark.factory import SparkSessionFactory\n",
    "from appinsight.infrastructure.storage.file import IOService"
   ]
  },
  {
   "cell_type": "code",
   "execution_count": 9,
   "metadata": {},
   "outputs": [
    {
     "name": "stdout",
     "output_type": "stream",
     "text": [
      "<class 'pandas.core.frame.DataFrame'>\n",
      "Index: 18306 entries, 15906283 to 4\n",
      "Data columns (total 13 columns):\n",
      " #   Column         Non-Null Count  Dtype         \n",
      "---  ------         --------------  -----         \n",
      " 0   id             18306 non-null  string        \n",
      " 1   app_id         18306 non-null  string        \n",
      " 2   app_name       18306 non-null  string        \n",
      " 3   category_id    18306 non-null  category      \n",
      " 4   category       18306 non-null  category      \n",
      " 5   author         18301 non-null  string        \n",
      " 6   rating         18306 non-null  int64         \n",
      " 7   title          18306 non-null  string        \n",
      " 8   content        18306 non-null  string        \n",
      " 9   vote_sum       18306 non-null  int64         \n",
      " 10  vote_count     18306 non-null  int64         \n",
      " 11  date           18306 non-null  datetime64[ms]\n",
      " 12  review_length  18306 non-null  int64         \n",
      "dtypes: category(2), datetime64[ms](1), int64(4), string(6)\n",
      "memory usage: 1.7 MB\n"
     ]
    }
   ],
   "source": [
    "fp1 = \"data/test/01_normalized/reviews.pkl\"\n",
    "fp2 = \"tests/data/test_pyarrow_write.parquet\"\n",
    "df1 = IOService.read(fp1)\n",
    "df1.info()"
   ]
  },
  {
   "cell_type": "raw",
   "metadata": {
    "vscode": {
     "languageId": "raw"
    }
   },
   "source": [
    "table = pa.Table.from_pandas(df1)\n",
    "pq.write_table(table, fp2)"
   ]
  },
  {
   "cell_type": "raw",
   "metadata": {
    "vscode": {
     "languageId": "raw"
    }
   },
   "source": [
    "table2 = pq.read_table(fp2)\n",
    "df2 = table2.to_pandas()\n",
    "df2.info()\n"
   ]
  },
  {
   "cell_type": "code",
   "execution_count": 10,
   "metadata": {},
   "outputs": [],
   "source": [
    "IOService.write(data=df1, filepath=fp2)"
   ]
  },
  {
   "cell_type": "code",
   "execution_count": 11,
   "metadata": {},
   "outputs": [
    {
     "data": {
      "text/html": [
       "<div>\n",
       "<style scoped>\n",
       "    .dataframe tbody tr th:only-of-type {\n",
       "        vertical-align: middle;\n",
       "    }\n",
       "\n",
       "    .dataframe tbody tr th {\n",
       "        vertical-align: top;\n",
       "    }\n",
       "\n",
       "    .dataframe thead th {\n",
       "        text-align: right;\n",
       "    }\n",
       "</style>\n",
       "<table border=\"1\" class=\"dataframe\">\n",
       "  <thead>\n",
       "    <tr style=\"text-align: right;\">\n",
       "      <th></th>\n",
       "      <th>id</th>\n",
       "      <th>app_id</th>\n",
       "      <th>app_name</th>\n",
       "      <th>category_id</th>\n",
       "      <th>category</th>\n",
       "      <th>author</th>\n",
       "      <th>rating</th>\n",
       "      <th>title</th>\n",
       "      <th>content</th>\n",
       "      <th>vote_sum</th>\n",
       "      <th>vote_count</th>\n",
       "      <th>date</th>\n",
       "      <th>review_length</th>\n",
       "    </tr>\n",
       "  </thead>\n",
       "  <tbody>\n",
       "    <tr>\n",
       "      <th>15906283</th>\n",
       "      <td>1160519484</td>\n",
       "      <td>454638411</td>\n",
       "      <td>Messenger</td>\n",
       "      <td>6005</td>\n",
       "      <td>Social Networking</td>\n",
       "      <td>Alpashino10</td>\n",
       "      <td>5</td>\n",
       "      <td>Good</td>\n",
       "      <td>100% good</td>\n",
       "      <td>0</td>\n",
       "      <td>0</td>\n",
       "      <td>2015-02-28 17:51:50</td>\n",
       "      <td>2</td>\n",
       "    </tr>\n",
       "    <tr>\n",
       "      <th>8328248</th>\n",
       "      <td>9036129510</td>\n",
       "      <td>1597150642</td>\n",
       "      <td>Reverse Health</td>\n",
       "      <td>6013</td>\n",
       "      <td>Health &amp; Fitness</td>\n",
       "      <td>maisyboo24</td>\n",
       "      <td>1</td>\n",
       "      <td>It’s a Scam</td>\n",
       "      <td>This app/program is a joke. You don’t receive ...</td>\n",
       "      <td>0</td>\n",
       "      <td>0</td>\n",
       "      <td>2022-08-31 02:31:08</td>\n",
       "      <td>191</td>\n",
       "    </tr>\n",
       "    <tr>\n",
       "      <th>10123462</th>\n",
       "      <td>1685166136</td>\n",
       "      <td>946346179</td>\n",
       "      <td>Animation Desk® Draw &amp; Animate</td>\n",
       "      <td>6016</td>\n",
       "      <td>Entertainment</td>\n",
       "      <td>Sealius</td>\n",
       "      <td>3</td>\n",
       "      <td>Hard to use</td>\n",
       "      <td>Would be good if there was copy frame sorry I'...</td>\n",
       "      <td>0</td>\n",
       "      <td>0</td>\n",
       "      <td>2017-07-16 23:20:22</td>\n",
       "      <td>31</td>\n",
       "    </tr>\n",
       "    <tr>\n",
       "      <th>5884575</th>\n",
       "      <td>6836055253</td>\n",
       "      <td>1158555867</td>\n",
       "      <td>Replika - Virtual AI Companion</td>\n",
       "      <td>6013</td>\n",
       "      <td>Health &amp; Fitness</td>\n",
       "      <td>30303838373</td>\n",
       "      <td>1</td>\n",
       "      <td>Peoples privacy</td>\n",
       "      <td>This app it’s been telling me that people are ...</td>\n",
       "      <td>1</td>\n",
       "      <td>1</td>\n",
       "      <td>2021-01-06 03:10:31</td>\n",
       "      <td>33</td>\n",
       "    </tr>\n",
       "    <tr>\n",
       "      <th>16095366</th>\n",
       "      <td>445648636</td>\n",
       "      <td>447119634</td>\n",
       "      <td>Currents</td>\n",
       "      <td>6005</td>\n",
       "      <td>Social Networking</td>\n",
       "      <td>Denver In Translation</td>\n",
       "      <td>5</td>\n",
       "      <td>I Love Google</td>\n",
       "      <td>Google &gt; Apple</td>\n",
       "      <td>0</td>\n",
       "      <td>0</td>\n",
       "      <td>2011-07-19 16:27:53</td>\n",
       "      <td>3</td>\n",
       "    </tr>\n",
       "  </tbody>\n",
       "</table>\n",
       "</div>"
      ],
      "text/plain": [
       "                  id      app_id                        app_name category_id  \\\n",
       "15906283  1160519484   454638411                       Messenger        6005   \n",
       "8328248   9036129510  1597150642                  Reverse Health        6013   \n",
       "10123462  1685166136   946346179  Animation Desk® Draw & Animate        6016   \n",
       "5884575   6836055253  1158555867  Replika - Virtual AI Companion        6013   \n",
       "16095366   445648636   447119634                        Currents        6005   \n",
       "\n",
       "                   category                 author  rating            title  \\\n",
       "15906283  Social Networking            Alpashino10       5             Good   \n",
       "8328248    Health & Fitness             maisyboo24       1      It’s a Scam   \n",
       "10123462      Entertainment                Sealius       3      Hard to use   \n",
       "5884575    Health & Fitness            30303838373       1  Peoples privacy   \n",
       "16095366  Social Networking  Denver In Translation       5    I Love Google   \n",
       "\n",
       "                                                    content  vote_sum  \\\n",
       "15906283                                          100% good         0   \n",
       "8328248   This app/program is a joke. You don’t receive ...         0   \n",
       "10123462  Would be good if there was copy frame sorry I'...         0   \n",
       "5884575   This app it’s been telling me that people are ...         1   \n",
       "16095366                                     Google > Apple         0   \n",
       "\n",
       "          vote_count                date  review_length  \n",
       "15906283           0 2015-02-28 17:51:50              2  \n",
       "8328248            0 2022-08-31 02:31:08            191  \n",
       "10123462           0 2017-07-16 23:20:22             31  \n",
       "5884575            1 2021-01-06 03:10:31             33  \n",
       "16095366           0 2011-07-19 16:27:53              3  "
      ]
     },
     "execution_count": 11,
     "metadata": {},
     "output_type": "execute_result"
    },
    {
     "name": "stdout",
     "output_type": "stream",
     "text": [
      "<class 'pandas.core.frame.DataFrame'>\n",
      "Index: 18306 entries, 15906283 to 4\n",
      "Data columns (total 13 columns):\n",
      " #   Column         Non-Null Count  Dtype         \n",
      "---  ------         --------------  -----         \n",
      " 0   id             18306 non-null  string        \n",
      " 1   app_id         18306 non-null  string        \n",
      " 2   app_name       18306 non-null  string        \n",
      " 3   category_id    18306 non-null  category      \n",
      " 4   category       18306 non-null  category      \n",
      " 5   author         18301 non-null  string        \n",
      " 6   rating         18306 non-null  int64         \n",
      " 7   title          18306 non-null  string        \n",
      " 8   content        18306 non-null  string        \n",
      " 9   vote_sum       18306 non-null  int64         \n",
      " 10  vote_count     18306 non-null  int64         \n",
      " 11  date           18306 non-null  datetime64[ms]\n",
      " 12  review_length  18306 non-null  int64         \n",
      "dtypes: category(2), datetime64[ms](1), int64(4), string(6)\n",
      "memory usage: 1.7 MB\n"
     ]
    }
   ],
   "source": [
    "df1.head()\n",
    "df1.info()"
   ]
  },
  {
   "cell_type": "code",
   "execution_count": 12,
   "metadata": {},
   "outputs": [
    {
     "name": "stdout",
     "output_type": "stream",
     "text": [
      "root\n",
      " |-- id: string (nullable = true)\n",
      " |-- app_id: string (nullable = true)\n",
      " |-- app_name: string (nullable = true)\n",
      " |-- category_id: string (nullable = true)\n",
      " |-- category: string (nullable = true)\n",
      " |-- author: string (nullable = true)\n",
      " |-- rating: long (nullable = true)\n",
      " |-- title: string (nullable = true)\n",
      " |-- content: string (nullable = true)\n",
      " |-- vote_sum: long (nullable = true)\n",
      " |-- vote_count: long (nullable = true)\n",
      " |-- date: timestamp_ntz (nullable = true)\n",
      " |-- review_length: long (nullable = true)\n",
      " |-- __index_level_0__: long (nullable = true)\n",
      "\n"
     ]
    }
   ],
   "source": [
    "factory = SparkSessionFactory()\n",
    "spark = factory.build()\n",
    "df3 = spark.read.parquet(fp2)\n",
    "df3.printSchema()\n"
   ]
  },
  {
   "cell_type": "code",
   "execution_count": 13,
   "metadata": {},
   "outputs": [
    {
     "name": "stdout",
     "output_type": "stream",
     "text": [
      "+----------+----------+--------------------+-----------+-----------------+--------------------+------+--------------------+--------------------+--------+----------+-------------------+-------------+-----------------+\n",
      "|        id|    app_id|            app_name|category_id|         category|              author|rating|               title|             content|vote_sum|vote_count|               date|review_length|__index_level_0__|\n",
      "+----------+----------+--------------------+-----------+-----------------+--------------------+------+--------------------+--------------------+--------+----------+-------------------+-------------+-----------------+\n",
      "|1160519484| 454638411|           Messenger|       6005|Social Networking|         Alpashino10|     5|                Good|           100% good|       0|         0|2015-02-28 17:51:50|            2|         15906283|\n",
      "|9036129510|1597150642|      Reverse Health|       6013| Health & Fitness|          maisyboo24|     1|         It’s a Scam|This app/program ...|       0|         0|2022-08-31 02:31:08|          191|          8328248|\n",
      "|1685166136| 946346179|Animation Desk® D...|       6016|    Entertainment|             Sealius|     3|         Hard to use|Would be good if ...|       0|         0|2017-07-16 23:20:22|           31|         10123462|\n",
      "|6836055253|1158555867|Replika - Virtual...|       6013| Health & Fitness|         30303838373|     1|     Peoples privacy|This app it’s bee...|       1|         1|2021-01-06 03:10:31|           33|          5884575|\n",
      "| 445648636| 447119634|            Currents|       6005|Social Networking|Denver In Transla...|     5|       I Love Google|      Google > Apple|       0|         0|2011-07-19 16:27:53|            3|         16095366|\n",
      "|5946771260| 924620788|    Google Classroom|       6017|        Education|   student 183637272|     1|   Google class room|I had so many iss...|       0|         0|2020-05-15 03:10:13|            8|         12169433|\n",
      "|4013881002|1008508212|Private Browser D...|       6002|        Utilities|        Sxy mn beast|     5|             Awesome|Works great 90% o...|       0|         0|2019-04-15 01:59:01|           14|         14496551|\n",
      "|  62658192| 301387274|          Pocket God|       6016|    Entertainment|             Shman15|     5|          Suggestion|Players should be...|       0|         0|2009-05-26 11:23:55|           26|          9720709|\n",
      "|1074727642| 300704847|  Speedtest by Ookla|       6002|        Utilities|             JFine10|     5|            Good App|Just found out i'...|       0|         0|2014-10-04 07:47:19|           32|         13611816|\n",
      "|1012807920| 639584030|Chat & Date: Onli...|       6012|        Lifestyle|           Myles1221|     5|                  😏|There's ugly chic...|       0|         0|2014-06-19 02:32:13|           10|          4148492|\n",
      "|1533647974| 986999874|Hiya: Spam Blocke...|       6002|        Utilities|              Teirce|     1|Why does this app...|Just another app ...|       0|         0|2017-01-30 15:54:46|           12|         13801778|\n",
      "|1376085901| 453713815|             dacadoo|       6013| Health & Fitness|              UsagiY|     1|What's the point,...|What's the point ...|       0|         0|2016-05-09 19:46:05|           73|          5607935|\n",
      "|5982285197|1324048797|Number Finder: Tr...|       6002|        Utilities|              CAnbiu|     5|           Great job|Nice app u love t...|       0|         0|2020-05-23 05:46:44|            7|         14234195|\n",
      "|6858821209| 487922291|          Eventbrite|       6016|    Entertainment|         Blazeblur91|     1|Literally doesn’t...|I literally can’t...|       0|         0|2021-01-11 23:38:57|           45|         10718006|\n",
      "|7998719763|1473663873|       Angel Studios|       6016|    Entertainment|            Cphilson|     5|Best Bible Series...|When I saw “The B...|       0|         0|2021-11-07 13:42:13|           99|         10935962|\n",
      "| 659281050| 381471023|        Flashlight Ⓞ|       6002|        Utilities|              CCWHWE|     5|          Flashlight|            Love it.|       0|         0|2012-09-16 01:15:26|            2|          4804771|\n",
      "|1455948573| 946659216|Best VPN Proxy Wi...|       6007|     Productivity|          Uriel arts|     5|         Works Great|                Tuff|       0|         0|2016-09-26 02:27:00|            1|           567782|\n",
      "|8267527474|1117444284|Docket® - Immuniz...|       6020|          Medical|              zsmann|     5|              Zsmann|           Wonderful|       0|         0|2022-01-22 00:45:07|            1|         11498543|\n",
      "|1043626240| 454638411|           Messenger|       6005|Social Networking|         Paulkarroum|     1|            Annoying|Very annoying hav...|       0|         0|2014-08-09 19:12:45|           24|         15799199|\n",
      "|6468024979| 804217537|Print Photo - pho...|       6002|        Utilities|          herrerasel|     5|       Great service|Fast and reliable...|       0|         0|2020-09-25 19:19:36|            7|         13367248|\n",
      "+----------+----------+--------------------+-----------+-----------------+--------------------+------+--------------------+--------------------+--------+----------+-------------------+-------------+-----------------+\n",
      "only showing top 20 rows\n",
      "\n"
     ]
    }
   ],
   "source": [
    "df3.show()"
   ]
  }
 ],
 "metadata": {
  "kernelspec": {
   "display_name": "appinsight",
   "language": "python",
   "name": "python3"
  },
  "language_info": {
   "codemirror_mode": {
    "name": "ipython",
    "version": 3
   },
   "file_extension": ".py",
   "mimetype": "text/x-python",
   "name": "python",
   "nbconvert_exporter": "python",
   "pygments_lexer": "ipython3",
   "version": "3.10.14"
  }
 },
 "nbformat": 4,
 "nbformat_minor": 2
}
