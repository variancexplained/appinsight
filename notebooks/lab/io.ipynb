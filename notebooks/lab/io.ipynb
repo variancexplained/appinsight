{
 "cells": [
  {
   "cell_type": "markdown",
   "metadata": {},
   "source": [
    "# IO Lab"
   ]
  },
  {
   "cell_type": "code",
   "execution_count": 1,
   "metadata": {},
   "outputs": [],
   "source": [
    "import os\n",
    "import pyarrow.parquet as pq\n",
    "import pyarrow as pa\n",
    "import pandas as pd\n",
    "from appinsight.utils.convert import ToSpark\n",
    "from appinsight.infrastructure.frameworks.spark.factory import SparkSessionFactory\n",
    "from appinsight.utils.file import IOService\n",
    "pd.options.display.max_rows = 999\n",
    "pd.options.display.max_columns = 100\n",
    "pd.options.display.max_colwidth = 20\n"
   ]
  },
  {
   "cell_type": "code",
   "execution_count": 2,
   "metadata": {},
   "outputs": [
    {
     "name": "stdout",
     "output_type": "stream",
     "text": [
      "<class 'pandas.core.frame.DataFrame'>\n",
      "RangeIndex: 22166591 entries, 0 to 22166590\n",
      "Data columns (total 11 columns):\n",
      " #   Column       Dtype         \n",
      "---  ------       -----         \n",
      " 0   id           string        \n",
      " 1   app_id       string        \n",
      " 2   app_name     string        \n",
      " 3   category_id  object        \n",
      " 4   category     object        \n",
      " 5   author       object        \n",
      " 6   rating       float64       \n",
      " 7   content      string        \n",
      " 8   vote_sum     Int64         \n",
      " 9   vote_count   Int64         \n",
      " 10  date         datetime64[ns]\n",
      "dtypes: Int64(2), datetime64[ns](1), float64(1), object(3), string(4)\n",
      "memory usage: 1.9+ GB\n",
      "<class 'pandas.core.frame.DataFrame'>\n",
      "RangeIndex: 22166591 entries, 0 to 22166590\n",
      "Data columns (total 11 columns):\n",
      " #   Column       Dtype         \n",
      "---  ------       -----         \n",
      " 0   id           string        \n",
      " 1   app_id       string        \n",
      " 2   app_name     string        \n",
      " 3   category_id  object        \n",
      " 4   author       object        \n",
      " 5   rating       float64       \n",
      " 6   content      string        \n",
      " 7   vote_sum     Int64         \n",
      " 8   vote_count   Int64         \n",
      " 9   date         datetime64[ns]\n",
      " 10  category     category      \n",
      "dtypes: Int64(2), category(1), datetime64[ns](1), float64(1), object(2), string(4)\n",
      "memory usage: 1.7+ GB\n"
     ]
    }
   ],
   "source": [
    "fp1 = \"data/reviews.pkl\"\n",
    "fp2 = \"data/reviews\"\n",
    "df1 = IOService.read(fp1)\n",
    "df1.info()\n",
    "IOService.write(filepath=fp2, data=df1, partition_cols = [\"category\"])\n",
    "df2 = IOService.read(fp2)\n",
    "df2.info()"
   ]
  },
  {
   "cell_type": "raw",
   "metadata": {
    "vscode": {
     "languageId": "raw"
    }
   },
   "source": [
    "table = pa.Table.from_pandas(df1)\n",
    "pq.write_table(table, fp2)"
   ]
  },
  {
   "cell_type": "raw",
   "metadata": {
    "vscode": {
     "languageId": "raw"
    }
   },
   "source": [
    "table2 = pq.read_table(fp2)\n",
    "df2 = table2.to_pandas()\n",
    "df2.info()\n"
   ]
  },
  {
   "cell_type": "code",
   "execution_count": null,
   "metadata": {},
   "outputs": [],
   "source": [
    "IOService.write(data=df1, filepath=fp2)"
   ]
  },
  {
   "cell_type": "code",
   "execution_count": null,
   "metadata": {},
   "outputs": [],
   "source": [
    "df1.head()\n",
    "df1.info()"
   ]
  },
  {
   "cell_type": "code",
   "execution_count": null,
   "metadata": {},
   "outputs": [],
   "source": [
    "factory = SparkSessionFactory()\n",
    "spark = factory.build()\n",
    "df3 = spark.read.parquet(fp2)\n",
    "df3.printSchema()\n"
   ]
  },
  {
   "cell_type": "code",
   "execution_count": null,
   "metadata": {},
   "outputs": [],
   "source": [
    "df3.show()"
   ]
  }
 ],
 "metadata": {
  "kernelspec": {
   "display_name": "appinsight",
   "language": "python",
   "name": "python3"
  },
  "language_info": {
   "codemirror_mode": {
    "name": "ipython",
    "version": 3
   },
   "file_extension": ".py",
   "mimetype": "text/x-python",
   "name": "python",
   "nbconvert_exporter": "python",
   "pygments_lexer": "ipython3",
   "version": "3.10.14"
  }
 },
 "nbformat": 4,
 "nbformat_minor": 2
}
