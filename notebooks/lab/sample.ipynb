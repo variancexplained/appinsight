{
 "cells": [
  {
   "cell_type": "markdown",
   "metadata": {},
   "source": [
    "# Sample Lab\n",
    "One percent samples of the datasets are created for experimentation purposes."
   ]
  },
  {
   "cell_type": "code",
   "execution_count": 1,
   "metadata": {},
   "outputs": [],
   "source": [
    "from appinsight.utils.repo import DatasetRepo\n",
    "from appinsight.utils.file import IOService"
   ]
  },
  {
   "cell_type": "markdown",
   "metadata": {},
   "source": [
    "## Load Data"
   ]
  },
  {
   "cell_type": "code",
   "execution_count": 2,
   "metadata": {},
   "outputs": [],
   "source": [
    "FP = {\"directory\": \"00_raw/reviews\", \"filename\":None}\n",
    "df = DatasetRepo().read(directory=FP[\"directory\"], filename=FP[\"filename\"])"
   ]
  },
  {
   "cell_type": "markdown",
   "metadata": {},
   "source": [
    "## Sample Data"
   ]
  },
  {
   "cell_type": "code",
   "execution_count": 3,
   "metadata": {},
   "outputs": [],
   "source": [
    "df2 = df.sample(frac=0.01)\n",
    "df3 = df.sample(frac=0.001)"
   ]
  },
  {
   "cell_type": "markdown",
   "metadata": {},
   "source": [
    "## Create Test and Development Data"
   ]
  },
  {
   "cell_type": "code",
   "execution_count": 4,
   "metadata": {},
   "outputs": [],
   "source": [
    "TEST_FP = \"data/test/00_raw/review\"\n",
    "DEV_FP = \"data/dev/00_raw/reviews\""
   ]
  },
  {
   "cell_type": "code",
   "execution_count": 5,
   "metadata": {},
   "outputs": [],
   "source": [
    "IOService.write(filepath=TEST_FP, data=df3, partition_cols = \"category\")\n",
    "IOService.write(filepath=DEV_FP, data=df2, partition_cols = \"category\")"
   ]
  },
  {
   "cell_type": "code",
   "execution_count": 6,
   "metadata": {},
   "outputs": [
    {
     "name": "stdout",
     "output_type": "stream",
     "text": [
      "<class 'pandas.core.frame.DataFrame'>\n",
      "Index: 221666 entries, 221102 to 19970441\n",
      "Data columns (total 11 columns):\n",
      " #   Column       Non-Null Count   Dtype         \n",
      "---  ------       --------------   -----         \n",
      " 0   id           221666 non-null  string        \n",
      " 1   app_id       221666 non-null  string        \n",
      " 2   app_name     221666 non-null  string        \n",
      " 3   category_id  221666 non-null  object        \n",
      " 4   author       221666 non-null  object        \n",
      " 5   rating       221666 non-null  float64       \n",
      " 6   content      221666 non-null  string        \n",
      " 7   vote_sum     221666 non-null  Int64         \n",
      " 8   vote_count   221666 non-null  Int64         \n",
      " 9   date         221666 non-null  datetime64[ns]\n",
      " 10  category     221666 non-null  category      \n",
      "dtypes: Int64(2), category(1), datetime64[ns](1), float64(1), object(2), string(4)\n",
      "memory usage: 19.2+ MB\n"
     ]
    }
   ],
   "source": [
    "df3 = IOService.read(filepath=DEV_FP)\n",
    "df3.info()"
   ]
  }
 ],
 "metadata": {
  "kernelspec": {
   "display_name": "appinsight",
   "language": "python",
   "name": "python3"
  },
  "language_info": {
   "codemirror_mode": {
    "name": "ipython",
    "version": 3
   },
   "file_extension": ".py",
   "mimetype": "text/x-python",
   "name": "python",
   "nbconvert_exporter": "python",
   "pygments_lexer": "ipython3",
   "version": "3.10.14"
  }
 },
 "nbformat": 4,
 "nbformat_minor": 2
}
