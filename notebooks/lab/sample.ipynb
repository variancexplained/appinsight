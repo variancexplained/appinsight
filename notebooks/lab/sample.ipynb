{
 "cells": [
  {
   "cell_type": "markdown",
   "metadata": {},
   "source": [
    "# Sample Lab\n",
    "One percent samples of the datasets are created for experimentation purposes."
   ]
  },
  {
   "cell_type": "code",
   "execution_count": 1,
   "metadata": {},
   "outputs": [],
   "source": [
    "from appinsight.utils.repo import DatasetRepo\n",
    "from appinsight.infrastructure.storage.file import IOService"
   ]
  },
  {
   "cell_type": "markdown",
   "metadata": {},
   "source": [
    "## Load Data"
   ]
  },
  {
   "cell_type": "code",
   "execution_count": 2,
   "metadata": {},
   "outputs": [],
   "source": [
    "FP = {\"directory\": \"00_raw\", \"filename\": \"reviews.pkl\"}\n",
    "df = DatasetRepo.read(directory=FP[\"directory\"], filename=FP[\"filename\"])"
   ]
  },
  {
   "cell_type": "markdown",
   "metadata": {},
   "source": [
    "## Sample Data"
   ]
  },
  {
   "cell_type": "code",
   "execution_count": 3,
   "metadata": {},
   "outputs": [
    {
     "data": {
      "text/plain": [
       "(183010, 13)"
      ]
     },
     "execution_count": 3,
     "metadata": {},
     "output_type": "execute_result"
    },
    {
     "name": "stdout",
     "output_type": "stream",
     "text": [
      "<class 'pandas.core.frame.DataFrame'>\n",
      "Index: 183010 entries, 9848411 to 11606449\n",
      "Data columns (total 13 columns):\n",
      " #   Column         Non-Null Count   Dtype         \n",
      "---  ------         --------------   -----         \n",
      " 0   id             183010 non-null  string        \n",
      " 1   app_id         183010 non-null  string        \n",
      " 2   app_name       183010 non-null  string        \n",
      " 3   category_id    183010 non-null  category      \n",
      " 4   category       183010 non-null  category      \n",
      " 5   author         183010 non-null  string        \n",
      " 6   rating         183010 non-null  float64       \n",
      " 7   title          183010 non-null  string        \n",
      " 8   content        183010 non-null  string        \n",
      " 9   vote_sum       183010 non-null  int64         \n",
      " 10  vote_count     183010 non-null  int64         \n",
      " 11  date           183010 non-null  datetime64[ns]\n",
      " 12  review_length  183010 non-null  int64         \n",
      "dtypes: category(2), datetime64[ns](1), float64(1), int64(3), string(6)\n",
      "memory usage: 17.1 MB\n"
     ]
    }
   ],
   "source": [
    "df2 = df.sample(frac=0.01)\n",
    "df2.shape\n",
    "df2.info()"
   ]
  },
  {
   "cell_type": "markdown",
   "metadata": {},
   "source": [
    "## Create Test and Development Data"
   ]
  },
  {
   "cell_type": "code",
   "execution_count": 4,
   "metadata": {},
   "outputs": [],
   "source": [
    "TEST_FP = \"data/test/00_raw/reviews.pkl\"\n",
    "DEV_FP = \"data/dev/00_raw/reviews.pkl\""
   ]
  },
  {
   "cell_type": "code",
   "execution_count": 5,
   "metadata": {},
   "outputs": [],
   "source": [
    "IOService.write(filepath=TEST_FP, data=df2)\n",
    "IOService.write(filepath=DEV_FP, data=df2)"
   ]
  },
  {
   "cell_type": "code",
   "execution_count": 6,
   "metadata": {},
   "outputs": [
    {
     "name": "stdout",
     "output_type": "stream",
     "text": [
      "<class 'pandas.core.frame.DataFrame'>\n",
      "Index: 183010 entries, 9848411 to 11606449\n",
      "Data columns (total 13 columns):\n",
      " #   Column         Non-Null Count   Dtype         \n",
      "---  ------         --------------   -----         \n",
      " 0   id             183010 non-null  string        \n",
      " 1   app_id         183010 non-null  string        \n",
      " 2   app_name       183010 non-null  string        \n",
      " 3   category_id    183010 non-null  category      \n",
      " 4   category       183010 non-null  category      \n",
      " 5   author         183010 non-null  string        \n",
      " 6   rating         183010 non-null  float64       \n",
      " 7   title          183010 non-null  string        \n",
      " 8   content        183010 non-null  string        \n",
      " 9   vote_sum       183010 non-null  int64         \n",
      " 10  vote_count     183010 non-null  int64         \n",
      " 11  date           183010 non-null  datetime64[ns]\n",
      " 12  review_length  183010 non-null  int64         \n",
      "dtypes: category(2), datetime64[ns](1), float64(1), int64(3), string(6)\n",
      "memory usage: 17.1 MB\n"
     ]
    }
   ],
   "source": [
    "df3 = IOService.read(filepath=DEV_FP)\n",
    "df3.info()"
   ]
  }
 ],
 "metadata": {
  "kernelspec": {
   "display_name": "appinsight",
   "language": "python",
   "name": "python3"
  },
  "language_info": {
   "codemirror_mode": {
    "name": "ipython",
    "version": 3
   },
   "file_extension": ".py",
   "mimetype": "text/x-python",
   "name": "python",
   "nbconvert_exporter": "python",
   "pygments_lexer": "ipython3",
   "version": "3.1.-1"
  }
 },
 "nbformat": 4,
 "nbformat_minor": 2
}
