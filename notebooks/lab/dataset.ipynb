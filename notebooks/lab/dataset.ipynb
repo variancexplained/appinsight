{
 "cells": [
  {
   "cell_type": "markdown",
   "metadata": {},
   "source": [
    "# Dataset Lab"
   ]
  },
  {
   "cell_type": "code",
   "execution_count": 1,
   "metadata": {},
   "outputs": [],
   "source": [
    "from appinsight.utils.file import IOService"
   ]
  },
  {
   "cell_type": "code",
   "execution_count": 2,
   "metadata": {},
   "outputs": [
    {
     "name": "stdout",
     "output_type": "stream",
     "text": [
      "<class 'pandas.core.frame.DataFrame'>\n",
      "RangeIndex: 221666 entries, 0 to 221665\n",
      "Data columns (total 12 columns):\n",
      " #   Column       Non-Null Count   Dtype         \n",
      "---  ------       --------------   -----         \n",
      " 0   id           221666 non-null  string        \n",
      " 1   index        221666 non-null  int64         \n",
      " 2   app_id       221666 non-null  string        \n",
      " 3   app_name     221666 non-null  string        \n",
      " 4   category_id  221666 non-null  category      \n",
      " 5   author       221666 non-null  string        \n",
      " 6   rating       221666 non-null  int16         \n",
      " 7   content      221666 non-null  string        \n",
      " 8   vote_sum     221666 non-null  int64         \n",
      " 9   vote_count   221666 non-null  int64         \n",
      " 10  date         221666 non-null  datetime64[ns]\n",
      " 11  category     221666 non-null  category      \n",
      "dtypes: category(2), datetime64[ns](1), int16(1), int64(3), string(5)\n",
      "memory usage: 16.1 MB\n"
     ]
    }
   ],
   "source": [
    "FP = \"data/dev/02_dqa/reviews\"\n",
    "df = IOService.read(FP)\n",
    "df.info()"
   ]
  }
 ],
 "metadata": {
  "kernelspec": {
   "display_name": "appinsight",
   "language": "python",
   "name": "python3"
  },
  "language_info": {
   "codemirror_mode": {
    "name": "ipython",
    "version": 3
   },
   "file_extension": ".py",
   "mimetype": "text/x-python",
   "name": "python",
   "nbconvert_exporter": "python",
   "pygments_lexer": "ipython3",
   "version": "3.10.14"
  }
 },
 "nbformat": 4,
 "nbformat_minor": 2
}
